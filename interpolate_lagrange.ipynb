{
 "cells": [
  {
   "attachments": {},
   "cell_type": "markdown",
   "id": "7109d6b8-d867-409a-8245-6d3e6821fc0f",
   "metadata": {},
   "source": [
    "<h1><strong>Construction of the Lagrange Interpolation term based on the given values.</strong></h1>\n"
   ]
  },
  {
   "attachments": {},
   "cell_type": "markdown",
   "id": "77b833c6-9874-4154-8a77-b0690e40e9c6",
   "metadata": {},
   "source": [
    "<h2><strong>Task condition:</strong></h2> \n"
   ]
  },
  {
   "attachments": {},
   "cell_type": "markdown",
   "id": "bdf1f656-4b1e-4889-97a0-ebc410cfc44b",
   "metadata": {
    "jp-MarkdownHeadingCollapsed": true
   },
   "source": [
    "По заданным значениям Х и У построить [интерполяцяционный многочлен Лагранжа](https://ru.wikipedia.org/wiki/Интерполяционный_многочлен_Лагранжа) и показать это визуально, построив графики.\n",
    "\n",
    "\n"
   ]
  },
  {
   "attachments": {},
   "cell_type": "markdown",
   "id": "c1196c8e-e6b2-45b0-8e23-08ec6a81a02a",
   "metadata": {},
   "source": [
    "<strong>Общий вид формулы:</strong>\n"
   ]
  },
  {
   "attachments": {},
   "cell_type": "markdown",
   "id": "6747d215-b181-4355-b134-bcc303e3633a",
   "metadata": {},
   "source": [
    "$$L(x)=\\sum_{i=0}^n y_il_i(x)$$"
   ]
  },
  {
   "attachments": {},
   "cell_type": "markdown",
   "id": "0e9fcbae-7f4f-400e-b1b7-68426c7b78ef",
   "metadata": {},
   "source": [
    "<h2><strong>Task solution:</strong></h2> \n"
   ]
  },
  {
   "attachments": {},
   "cell_type": "markdown",
   "id": "e71b5dc9-7921-4929-a7ef-343e2c6e5f33",
   "metadata": {},
   "source": [
    " <strong>Для начала установим нужные нам библиотеки:</strong> "
   ]
  },
  {
   "cell_type": "code",
   "execution_count": 1,
   "id": "3e2fade5-e715-4adc-bddd-954987e5fd26",
   "metadata": {
    "scrolled": true
   },
   "outputs": [
    {
     "name": "stdout",
     "output_type": "stream",
     "text": [
      "Requirement already satisfied: numpy in c:\\users\\huawei\\appdata\\local\\programs\\python\\python311\\lib\\site-packages (1.26.4)\n"
     ]
    },
    {
     "name": "stderr",
     "output_type": "stream",
     "text": [
      "\n",
      "[notice] A new release of pip is available: 23.2.1 -> 24.0\n",
      "[notice] To update, run: python.exe -m pip install --upgrade pip\n"
     ]
    },
    {
     "name": "stdout",
     "output_type": "stream",
     "text": [
      "Requirement already satisfied: matplotlib in c:\\users\\huawei\\appdata\\local\\programs\\python\\python311\\lib\\site-packages (3.8.4)\n",
      "Requirement already satisfied: contourpy>=1.0.1 in c:\\users\\huawei\\appdata\\local\\programs\\python\\python311\\lib\\site-packages (from matplotlib) (1.2.1)\n",
      "Requirement already satisfied: cycler>=0.10 in c:\\users\\huawei\\appdata\\local\\programs\\python\\python311\\lib\\site-packages (from matplotlib) (0.12.1)\n",
      "Requirement already satisfied: fonttools>=4.22.0 in c:\\users\\huawei\\appdata\\local\\programs\\python\\python311\\lib\\site-packages (from matplotlib) (4.51.0)\n",
      "Requirement already satisfied: kiwisolver>=1.3.1 in c:\\users\\huawei\\appdata\\local\\programs\\python\\python311\\lib\\site-packages (from matplotlib) (1.4.5)\n",
      "Requirement already satisfied: numpy>=1.21 in c:\\users\\huawei\\appdata\\local\\programs\\python\\python311\\lib\\site-packages (from matplotlib) (1.26.4)\n",
      "Requirement already satisfied: packaging>=20.0 in c:\\users\\huawei\\appdata\\local\\programs\\python\\python311\\lib\\site-packages (from matplotlib) (24.0)\n",
      "Requirement already satisfied: pillow>=8 in c:\\users\\huawei\\appdata\\local\\programs\\python\\python311\\lib\\site-packages (from matplotlib) (10.3.0)\n",
      "Requirement already satisfied: pyparsing>=2.3.1 in c:\\users\\huawei\\appdata\\local\\programs\\python\\python311\\lib\\site-packages (from matplotlib) (3.1.2)\n",
      "Requirement already satisfied: python-dateutil>=2.7 in c:\\users\\huawei\\appdata\\local\\programs\\python\\python311\\lib\\site-packages (from matplotlib) (2.9.0.post0)\n",
      "Requirement already satisfied: six>=1.5 in c:\\users\\huawei\\appdata\\local\\programs\\python\\python311\\lib\\site-packages (from python-dateutil>=2.7->matplotlib) (1.16.0)\n"
     ]
    },
    {
     "name": "stderr",
     "output_type": "stream",
     "text": [
      "\n",
      "[notice] A new release of pip is available: 23.2.1 -> 24.0\n",
      "[notice] To update, run: python.exe -m pip install --upgrade pip\n"
     ]
    }
   ],
   "source": [
    "!pip install numpy\n",
    "!pip install matplotlib"
   ]
  },
  {
   "attachments": {},
   "cell_type": "markdown",
   "id": "cec8023b-60cd-4aab-ae0a-66d0375e450d",
   "metadata": {},
   "source": [
    " <strong>Импортируем библиотеки</strong> "
   ]
  },
  {
   "cell_type": "code",
   "execution_count": 2,
   "id": "1d6b6acd-9a7c-4ca1-9e08-8ef67c2e2ada",
   "metadata": {},
   "outputs": [],
   "source": [
    "import numpy as np\n",
    "import matplotlib.pyplot as plt"
   ]
  },
  {
   "attachments": {},
   "cell_type": "markdown",
   "id": "03f7c39c-93ae-4373-a1bd-8f73efa6f9e4",
   "metadata": {},
   "source": [
    " <strong>Описание необходимых библиотек:</strong> \n",
    "* <b>numpy</b> - библиотека для работы с многомерными массивами, аналог Matlab на Python.\n",
    "* <b>matplotlob</b> - библиотека для визуализации данных (создание любых видов графиков).\n"
   ]
  },
  {
   "attachments": {},
   "cell_type": "markdown",
   "id": "c9f2b6d0-cb58-482c-ae13-801b36cbed8c",
   "metadata": {},
   "source": [
    " <strong>Описание самой функции для построения полинома Лагранжа:</strong> \n"
   ]
  },
  {
   "cell_type": "code",
   "execution_count": 3,
   "id": "df16135e-def7-4eed-b13d-0963d568e28a",
   "metadata": {},
   "outputs": [],
   "source": [
    "def Lagrange(points, x):\n",
    "    sum = 0\n",
    "    n = len(points)\n",
    "    for i in range(n):\n",
    "        x_i, y_i = points[i]\n",
    "        # Считаю L\n",
    "        def L(i):\n",
    "            L_value = 1\n",
    "            for j in range(n):\n",
    "                if i == j:\n",
    "                    continue\n",
    "                x_j, y_j = points[j]\n",
    "                L_value *= (x - x_j) / (x_i - x_j)\n",
    "            return L_value\n",
    "        sum += y_i * L(i)\n",
    "    return sum"
   ]
  },
  {
   "attachments": {},
   "cell_type": "markdown",
   "id": "4c8eb7af-1c1f-4586-85b5-c3f448a0946c",
   "metadata": {},
   "source": [
    "<strong>Описание:</strong>\n",
    "\n",
    "Функция $Lagrange(points, x)$ вычисляет значение интерполяционного многочлена Лагранжа для заданных точек $points$ в точке $x$. Для вычисления значения многочлена Лагранжа происходит следующее:\n",
    "1. Вычисляется количество точек $n$.\n",
    "2. Для каждой точки $i$ в диапазоне от 0 до $n$:\n",
    "    - Получаем координаты точки $(xi, yi)$.\n",
    "    - Выполняется внутренняя функция $L(i)$, которая вычисляет значение множителя $L(i)$ для данной точки $i$. Множитель $L(i)$ строится на основе произведения всех $(x - xj) / (xi - xj)$, где $j$ проходит все точки, кроме $i$.\n",
    "    - К полученному множителю $L(i)$ умножается значение $yi$ и суммируется в переменную $sum$.\n",
    "3. Возвращается значение переменной $sum$, которое является значением интерполяционного многочлена Лагранжа в точке $x$."
   ]
  },
  {
   "attachments": {},
   "cell_type": "markdown",
   "id": "1ecd0bd7-839a-4fc9-8d47-de93c7da8303",
   "metadata": {},
   "source": [
    "<strong>Определяю входные условия (функцию на основе заданных точек)</strong>"
   ]
  },
  {
   "cell_type": "code",
   "execution_count": 4,
   "id": "a206e857-6a96-48b7-b760-de9f22aa358a",
   "metadata": {},
   "outputs": [],
   "source": [
    "my_data = np.array([[1, 1], [3, 9], [6, 36], [10, 100], [12, 144]]) # здесь задаю точки графика"
   ]
  },
  {
   "attachments": {},
   "cell_type": "markdown",
   "id": "226912cd-f0d3-4c57-ad08-3919ebcdb46c",
   "metadata": {},
   "source": [
    "<strong>Строю график заданной функции</strong>"
   ]
  },
  {
   "cell_type": "code",
   "execution_count": 5,
   "id": "9bc30959-6f15-4d79-b5b6-91a4e1ba7138",
   "metadata": {},
   "outputs": [
    {
     "data": {
      "text/plain": [
       "[<matplotlib.lines.Line2D at 0x21355a17e10>]"
      ]
     },
     "execution_count": 5,
     "metadata": {},
     "output_type": "execute_result"
    },
    {
     "data": {
      "image/png": "[encoded data removed]",
      "text/plain": [
       "<Figure size 640x480 with 1 Axes>"
      ]
     },
     "metadata": {},
     "output_type": "display_data"
    }
   ],
   "source": [
    "plt.plot(my_data[:,0], my_data[:,1], 'r', linewidth=2)"
   ]
  },
  {
   "attachments": {},
   "cell_type": "markdown",
   "id": "40f950b1-282e-4273-a2c2-47ff2d13a8a6",
   "metadata": {},
   "source": [
    "<strong>Определяю таблицу значений полинома Лагранжа</strong>"
   ]
  },
  {
   "cell_type": "code",
   "execution_count": 6,
   "id": "f3b90ffe-fe65-4df9-bb57-ca092322c6e5",
   "metadata": {},
   "outputs": [
    {
     "name": "stdout",
     "output_type": "stream",
     "text": [
      "[[  0.   0.]\n",
      " [  1.   1.]\n",
      " [  2.   4.]\n",
      " [  3.   9.]\n",
      " [  4.  16.]\n",
      " [  5.  25.]\n",
      " [  6.  36.]\n",
      " [  7.  49.]\n",
      " [  8.  64.]\n",
      " [  9.  81.]\n",
      " [ 10. 100.]\n",
      " [ 11. 121.]\n",
      " [ 12. 144.]]\n"
     ]
    }
   ],
   "source": [
    "z = []\n",
    "for i in range(13):\n",
    "    z.append([i, np.round(Lagrange(my_data, i), 10)])\n",
    "\n",
    "z = np.array(z) \n",
    "print(z) "
   ]
  },
  {
   "attachments": {},
   "cell_type": "markdown",
   "id": "d69b4c7b-6bf8-41e2-9bcb-8413f9b5f5e5",
   "metadata": {},
   "source": [
    "<strong>Cтрою заданную функцию и полином Лагранжа (примерное восстановление функции)</strong>"
   ]
  },
  {
   "cell_type": "code",
   "execution_count": 7,
   "id": "41a42549-034c-425d-9da5-c1dd0870aeec",
   "metadata": {},
   "outputs": [
    {
     "data": {
      "text/plain": [
       "<matplotlib.legend.Legend at 0x213558fa710>"
      ]
     },
     "execution_count": 7,
     "metadata": {},
     "output_type": "execute_result"
    },
    {
     "data": {
      "image/png": "[encoded data removed]",
      "text/plain": [
       "<Figure size 640x480 with 1 Axes>"
      ]
     },
     "metadata": {},
     "output_type": "display_data"
    }
   ],
   "source": [
    "plt.plot(my_data[:,0], my_data[:,1], 'r', z[:,0], z[:,1], linewidth=2)\n",
    "plt.legend(['Входная функция', 'Полином Лагранжа'])"
   ]
  },
  {
   "cell_type": "code",
   "execution_count": null,
   "id": "308c0507-27dd-430e-bd9e-67bfe98a02c3",
   "metadata": {},
   "outputs": [],
   "source": []
  }
 ],
 "metadata": {
  "kernelspec": {
   "display_name": "Python 3 (ipykernel)",
   "language": "python",
   "name": "python3"
  },
  "language_info": {
   "codemirror_mode": {
    "name": "ipython",
    "version": 3
   },
   "file_extension": ".py",
   "mimetype": "text/x-python",
   "name": "python",
   "nbconvert_exporter": "python",
   "pygments_lexer": "ipython3",
   "version": "3.11.5"
  }
 },
 "nbformat": 4,
 "nbformat_minor": 5
}
